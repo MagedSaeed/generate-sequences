{
 "cells": [
  {
   "cell_type": "code",
   "execution_count": 2,
   "metadata": {},
   "outputs": [],
   "source": [
    "import torch\n",
    "\n",
    "import evaluate\n",
    "import datasets\n",
    "\n",
    "from tqdm.auto import tqdm\n",
    "\n",
    "from transformers import MarianTokenizer, MarianMTModel"
   ]
  },
  {
   "cell_type": "code",
   "execution_count": 3,
   "metadata": {},
   "outputs": [],
   "source": [
    "# load the translation model from transformers\n",
    "# model_name = \"Helsinki-NLP/opus-mt-ar-en\"\n",
    "# tokenizer = AutoTokenizer.from_pretrained(model_name)\n",
    "# model = AutoModelForSeq2SeqLM.from_pretrained(model_name).to('cuda')\n",
    "\n",
    "\n",
    "mname = \"marefa-nlp/marefa-mt-en-ar\"\n",
    "tokenizer = MarianTokenizer.from_pretrained(mname)\n",
    "model = MarianMTModel.from_pretrained(mname)\n",
    "\n",
    "\n",
    "bleu_scorer = evaluate.load(\"sacrebleu\")\n",
    "\n",
    "test_dataset = datasets.load_dataset('iwslt2017','iwslt2017-ar-en', split='test')"
   ]
  },
  {
   "cell_type": "code",
   "execution_count": 4,
   "metadata": {},
   "outputs": [],
   "source": [
    "source_language = 'en'\n",
    "target_language = 'ar'"
   ]
  },
  {
   "cell_type": "code",
   "execution_count": 5,
   "metadata": {},
   "outputs": [],
   "source": [
    "source_language = 'en'\n",
    "target_language = 'ar'"
   ]
  },
  {
   "cell_type": "code",
   "execution_count": 6,
   "metadata": {},
   "outputs": [
    {
     "data": {
      "text/plain": [
       "(10,\n",
       " 10,\n",
       " [\"One major consequence of this work  is that maybe all of these decades,  we've had the whole concept of cybernetic revolt  in reverse.\",\n",
       "  \"It's not that machines first become intelligent  and then megalomaniacal  and try to take over the world.\",\n",
       "  \"It's quite the opposite,  that the urge to take control  of all possible futures  is a more fundamental principle  than that of intelligence,  that general intelligence may in fact emerge  directly from this sort of control-grabbing,  rather than vice versa.\",\n",
       "  'Another important consequence is goal seeking.',\n",
       "  \"I'm often asked, how does the ability to seek goals  follow from this sort of framework?\"],\n",
       " ['أحد العواقب الكبرى لهذا العمل هو أنه لربما طوال كل هذه العقود، كان لدينا المفهوم العكسي للثورة الآلية.',\n",
       "  'الأمر ليس في أن الآلات تصبح ذكية في البداية ثم ينتابها جنون العظمة و تحاول السيطرة على العالم.',\n",
       "  'إنه تماماً العكس، أن النزعة للسيطرة على كل الأزمنة المستقبلية الواردة هي مبدأ أساسي أكثر من مبدأ الذكاء، أن نواحي الذكاء العامة يمكن في الحقيقة أن تنبعث مباشرة من السيطرة، بدلاً من أن يكون الأمر بالعكس.',\n",
       "  'عاقبة أخرى مهمة هي البحث عن الهدف.',\n",
       "  'إنني أُسأل غالباً، كيف يمكن تفسير قدرة البحث عن الأهداف في هذا الإطار؟'])"
      ]
     },
     "execution_count": 6,
     "metadata": {},
     "output_type": "execute_result"
    }
   ],
   "source": [
    "input_texts = [example[source_language] for example in test_dataset['translation']][-10:]\n",
    "targets = [example[target_language] for example in test_dataset['translation']][-10:]\n",
    "len(input_texts), len(targets), input_texts[:5], targets[:5]"
   ]
  },
  {
   "cell_type": "code",
   "execution_count": 7,
   "metadata": {},
   "outputs": [],
   "source": [
    "model.generation_config.num_beams=1\n",
    "model.generation_config.use_cache = False\n",
    "model.generation_config.batch_size=2"
   ]
  },
  {
   "cell_type": "code",
   "execution_count": 8,
   "metadata": {},
   "outputs": [],
   "source": [
    "def get_batches(inputs,batch_size):\n",
    "    for i in tqdm(\n",
    "            range(0, len(inputs), batch_size),\n",
    "            desc=\"Generating Sequences\",\n",
    "            total=len(inputs) // batch_size,\n",
    "        ):\n",
    "        yield inputs[i : i + batch_size]"
   ]
  },
  {
   "cell_type": "code",
   "execution_count": 49,
   "metadata": {},
   "outputs": [],
   "source": [
    "def translate(texts):\n",
    "    translated_texts = list()\n",
    "    for batch in get_batches(texts,batch_size=model.generation_config.batch_size):\n",
    "        translated_tokens = model.generate(\n",
    "            **tokenizer(batch, return_tensors=\"pt\",padding=True),\n",
    "            # num_beams=4,\n",
    "            # do_sample=True,\n",
    "        )\n",
    "        translated_texts += [tokenizer.decode(t, skip_special_tokens=True) for t in translated_tokens]\n",
    "    return translated_texts"
   ]
  },
  {
   "cell_type": "code",
   "execution_count": 50,
   "metadata": {},
   "outputs": [
    {
     "data": {
      "application/vnd.jupyter.widget-view+json": {
       "model_id": "0e012738353b43519a8270117a5cd1fc",
       "version_major": 2,
       "version_minor": 0
      },
      "text/plain": [
       "Generating Sequences:   0%|          | 0/5 [00:00<?, ?it/s]"
      ]
     },
     "metadata": {},
     "output_type": "display_data"
    },
    {
     "data": {
      "text/plain": [
       "(10, 10, 10)"
      ]
     },
     "execution_count": 50,
     "metadata": {},
     "output_type": "execute_result"
    }
   ],
   "source": [
    "# Example batch of input sentences\n",
    "hf_predictions = translate(input_texts)\n",
    "len(input_texts), len(hf_predictions), len(targets)"
   ]
  },
  {
   "cell_type": "code",
   "execution_count": 51,
   "metadata": {},
   "outputs": [
    {
     "data": {
      "text/plain": [
       "['ومن النتائج الرئيسية لهذا العمل أنه ربما كانت كل هذه العقود، قد حصل لنا المفهوم الكامل للثورة الإلكترونية بالعكس.',\n",
       " 'ليس أن الآلات تصبح أولاً ذكية ثم ميگالومانيكال وتحاول الاستيلاء على العالم.',\n",
       " 'بل العكس تماماً، هو أن الحث على السيطرة على جميع المستقبلات الممكنة هو مبدأ أكثر جوهرية من مبدأ الذكاء، ذلك أن المخابرات العامة قد تخرج في الواقع مباشرة من هذا النوع من التجسس، بدلاً من العكس.',\n",
       " 'ومن النتائج الهامة الأخرى السعي لتحقيق الهدف.',\n",
       " 'غالباً ما يُسألني، كيف تتبع القدرة على البحث عن الأهداف من هذا النوع من الإطارات؟',\n",
       " 'والاجابة هي أن القدرة على السعي لتحقيق الأهداف ستتبع مباشرة من هذا بالمعنى التالي: تماماً كما ستسافر عبر نفق، عنق القنينة في فضاء مسارك المستقبلي، من أجل تحقيق العديد من الأهداف المتنوعة الأخرى لاحقاً، أو مثلك تماماً ستستثمر في أمن مالي، تقلل سيولتك قصيرة المدى من أجل زيادة ثروتك على المدى الطويل، هدف البحث عن البرز مباشرة',\n",
       " 'من دافع طويل المدى لزيادة حرية العمل في المستقبل.',\n",
       " 'وأخيراً، كتب ريتشارد ڤاينمان، الفيزيائي الشهير، ذات مرة، أنه لو دمرت الحضارة البشرية ولم تتمكن من تمرير سوى مفهوم واحد إلى أحفادنا لمساعدتهم على إعادة بناء الحضارة، ينبغي أن يكون ذلك المفهوم أن كل المادة حولنا مصنوعة من عناصر صغيرة تجذب بعضها البعض عندما تكون متباعدة ولكنها تصد بعضها بعضاً عندما تكون قريبة من بعض.',\n",
       " 'أما نظيري في ذلك القول ليمرر إلى أحفاده ليساعدهم على بناء ذكاء اصطناعي أو ليساعدهم على فهم الذكاء البشري، فهو التالي: ينبغي النظر إلى الذكاء على أنه عملية مادية تحاول تحقيق أكبر قدر من الحرية في العمل في المستقبل وتجنب القيود في مستقبلها.',\n",
       " 'شكر جزيل']"
      ]
     },
     "execution_count": 51,
     "metadata": {},
     "output_type": "execute_result"
    }
   ],
   "source": [
    "hf_predictions"
   ]
  },
  {
   "cell_type": "code",
   "execution_count": 52,
   "metadata": {},
   "outputs": [
    {
     "data": {
      "text/plain": [
       "{'score': 15.796125110909543,\n",
       " 'counts': [128, 58, 28, 13],\n",
       " 'totals': [264, 254, 244, 235],\n",
       " 'precisions': [48.484848484848484,\n",
       "  22.834645669291337,\n",
       "  11.475409836065573,\n",
       "  5.531914893617022],\n",
       " 'bp': 0.9701515036966302,\n",
       " 'sys_len': 264,\n",
       " 'ref_len': 272}"
      ]
     },
     "execution_count": 52,
     "metadata": {},
     "output_type": "execute_result"
    }
   ],
   "source": [
    "bleu_scorer.compute(predictions=hf_predictions, references=targets)"
   ]
  },
  {
   "cell_type": "code",
   "execution_count": 11,
   "metadata": {},
   "outputs": [
    {
     "data": {
      "text/plain": [
       "GenerationConfig {\n",
       "  \"bad_words_ids\": [\n",
       "    [\n",
       "      62801\n",
       "    ]\n",
       "  ],\n",
       "  \"batch_size\": 100,\n",
       "  \"bos_token_id\": 0,\n",
       "  \"decoder_start_token_id\": 62801,\n",
       "  \"eos_token_id\": 0,\n",
       "  \"forced_eos_token_id\": 0,\n",
       "  \"max_length\": 512,\n",
       "  \"pad_token_id\": 62801,\n",
       "  \"use_cache\": false\n",
       "}"
      ]
     },
     "execution_count": 11,
     "metadata": {},
     "output_type": "execute_result"
    }
   ],
   "source": [
    "model.generation_config"
   ]
  },
  {
   "cell_type": "code",
   "execution_count": 17,
   "metadata": {},
   "outputs": [],
   "source": [
    "def generate(inputs, decoder_input_ids):\n",
    "    model_outputs = model(\n",
    "        **tokenizer(\n",
    "            inputs,\n",
    "            return_tensors=\"pt\",\n",
    "            padding=True,\n",
    "        ),\n",
    "        decoder_input_ids=decoder_input_ids,\n",
    "    )\n",
    "    return model_outputs.logits\n",
    "\n",
    "\n",
    "from generate_sequences import GreedyGenerator\n",
    "\n",
    "sequences_generator = GreedyGenerator(\n",
    "    use_tqdm=True,\n",
    "    device=model.device,\n",
    "    generate_fn=generate,\n",
    "    batch_size=model.generation_config.batch_size,\n",
    "    # max_length=model.generation_config.max_length,\n",
    "    max_length=50,\n",
    "    eos_token_id=model.generation_config.eos_token_id,\n",
    "    decoder_start_token_id=model.generation_config.decoder_start_token_id,\n",
    ")"
   ]
  },
  {
   "cell_type": "code",
   "execution_count": 18,
   "metadata": {},
   "outputs": [
    {
     "data": {
      "application/vnd.jupyter.widget-view+json": {
       "model_id": "9d552116e4ac4f5f80f246f04d10006b",
       "version_major": 2,
       "version_minor": 0
      },
      "text/plain": [
       "Generating Sequences:   0%|          | 0/5 [00:00<?, ?it/s]"
      ]
     },
     "metadata": {},
     "output_type": "display_data"
    },
    {
     "data": {
      "text/plain": [
       "(10, 10, 10)"
      ]
     },
     "execution_count": 18,
     "metadata": {},
     "output_type": "execute_result"
    }
   ],
   "source": [
    "prediction_ids = sequences_generator.generate(input_texts)\n",
    "predictions = tokenizer.batch_decode(prediction_ids, skip_special_tokens=True)\n",
    "len(input_texts), len(predictions), len(targets)"
   ]
  },
  {
   "cell_type": "code",
   "execution_count": 19,
   "metadata": {},
   "outputs": [
    {
     "data": {
      "text/plain": [
       "['ومن النتائج الرئيسية لهذا العمل أنه ربما كانت كل هذه العقود، قد حصل لنا المفهوم الكامل للثورة الإلكترونية بالعكس.',\n",
       " 'ليس أن الآلات تصبح أولاً ذكية ثم ميگالومانيكال وتحاول الاستيلاء على العالم.',\n",
       " 'بل العكس تماماً، هو أن الحث على السيطرة على جميع المستقبلات الممكنة هو مبدأ أكثر جوهرية من مبدأ الذكاء، ذلك أن المخابرات العامة قد تخرج في الواقع مباشرة من هذا النوع من التجسس، بدلاً من العكس.',\n",
       " 'ومن النتائج الهامة الأخرى السعي لتحقيق الهدف.',\n",
       " 'غالباً ما يُسألني، كيف تتبع القدرة على البحث عن الأهداف من هذا النوع من الإطارات؟',\n",
       " 'والاجابة هي أن القدرة على السعي لتحقيق الأهداف ستتبع مباشرة من هذا بالمعنى التالي: تماماً كما ستسافر عبر نفق، عنق القنينة في فضاء مسارك المستقبلي، من أجل تحقيق العديد من الأهداف المتنوعة الأخرى لاحقاً،',\n",
       " 'من دافع طويل المدى لزيادة حرية العمل في المستقبل.',\n",
       " 'وأخيراً، كتب ريتشارد ڤاينمان، الفيزيائي الشهير، ذات مرة، أنه لو دمرت الحضارة البشرية ولم تتمكن من تمرير سوى مفهوم واحد إلى أحفادنا لمساعدتهم على إعادة بناء الحضارة، ينبغي أن يكون ذلك المفهوم أن كل',\n",
       " 'أما نظيري في ذلك القول ليمرر إلى أحفاده ليساعدهم على بناء ذكاء اصطناعي أو ليساعدهم على فهم الذكاء البشري، فهو التالي: ينبغي النظر إلى الذكاء على أنه عملية مادية تحاول تحقيق أكبر قدر من الحرية في',\n",
       " 'شكر جزيل']"
      ]
     },
     "execution_count": 19,
     "metadata": {},
     "output_type": "execute_result"
    }
   ],
   "source": [
    "predictions"
   ]
  },
  {
   "cell_type": "code",
   "execution_count": 20,
   "metadata": {},
   "outputs": [
    {
     "data": {
      "text/plain": [
       "{'score': 7.785887799197727,\n",
       " 'counts': [100, 41, 14, 3],\n",
       " 'totals': [211, 201, 191, 182],\n",
       " 'precisions': [47.39336492890995,\n",
       "  20.398009950248756,\n",
       "  7.329842931937173,\n",
       "  1.6483516483516483],\n",
       " 'bp': 0.7489376628737409,\n",
       " 'sys_len': 211,\n",
       " 'ref_len': 272}"
      ]
     },
     "execution_count": 20,
     "metadata": {},
     "output_type": "execute_result"
    }
   ],
   "source": [
    "bleu_scorer.compute(predictions=predictions, references=targets)"
   ]
  }
 ],
 "metadata": {
  "kernelspec": {
   "display_name": "generate-sequences",
   "language": "python",
   "name": "python3"
  },
  "language_info": {
   "codemirror_mode": {
    "name": "ipython",
    "version": 3
   },
   "file_extension": ".py",
   "mimetype": "text/x-python",
   "name": "python",
   "nbconvert_exporter": "python",
   "pygments_lexer": "ipython3",
   "version": "3.10.12"
  }
 },
 "nbformat": 4,
 "nbformat_minor": 2
}
