{
  "nbformat": 4,
  "nbformat_minor": 0,
  "metadata": {
    "colab": {
      "provenance": []
    },
    "kernelspec": {
      "name": "python3",
      "display_name": "Python 3"
    },
    "language_info": {
      "name": "python"
    }
  },
  "cells": [
    {
      "cell_type": "markdown",
      "source": [
        "# Generate-Sequences"
      ],
      "metadata": {
        "id": "ohVPGfg9lWAT"
      }
    },
    {
      "cell_type": "markdown",
      "source": [
        "`generate-sequences` is a package created to generate text from auto-regressive pytorch-based models without tears. You can think of it as [huggingface generation mixin](https://huggingface.co/docs/transformers/en/main_classes/text_generation) but for a pytorch model you built from scratch. No need to include it to huggingface echosystem to generate from your model. The package features greedy generation as well as beam search generation. Many sampling techniques are also supported."
      ],
      "metadata": {
        "id": "EARqxR3ElciH"
      }
    },
    {
      "cell_type": "markdown",
      "source": [
        "## Installation"
      ],
      "metadata": {
        "id": "hEEOztwWmW5C"
      }
    },
    {
      "cell_type": "markdown",
      "source": [
        "`generate-sequences` can be installed with pip as follows:"
      ],
      "metadata": {
        "id": "kLAjrSC3meaT"
      }
    },
    {
      "cell_type": "code",
      "execution_count": null,
      "metadata": {
        "id": "-JGIejswlUFS"
      },
      "outputs": [],
      "source": [
        "pip install -U generate-sequences"
      ]
    },
    {
      "cell_type": "markdown",
      "source": [
        "## encoder-decoder architecutres"
      ],
      "metadata": {
        "id": "Z-FP5zYKm3ja"
      }
    },
    {
      "cell_type": "markdown",
      "source": [
        "In encoder-decoder architecture, the typical use-case is that the model will receive encoder inputs first. These inputs will be passed as batch to the encoder in order to generate tokens from the decoder. The decoder will get the first token as the `decoder_start_token_id` then start generating untill generating the `eos_token_id` where this indicates the model is done generating with this sequence. However, it will continue generating for other sequences in the batch untill all reached the `eos_token_id` in which the generation stops."
      ],
      "metadata": {
        "id": "mR8thFTAtGj4"
      }
    },
    {
      "cell_type": "markdown",
      "source": [
        "You can generate from an encoder-decoder architecture using greedy approach as follows. This also applies for beam search generation."
      ],
      "metadata": {
        "id": "J5vgtdZmmwov"
      }
    },
    {
      "cell_type": "markdown",
      "source": [
        "First, Prepare your encoder inputs:"
      ],
      "metadata": {
        "id": "6MlJa03psEgQ"
      }
    },
    {
      "cell_type": "code",
      "source": [
        "# usually the sentences are enclosed with bos and eos sentences.\n",
        "encoder_sentences = [\n",
        "    '<bos> sentence 1 <eos>',\n",
        "    '<bos> sentence 2 <eos>',\n",
        "    '<bos> sentence 3 <eos>',\n",
        "    ...\n",
        "]\n",
        "# You can also handle the <bos> and <eos> in the tokenizer if you tokenizer supports that\n",
        "encoder_inputs = tokenizer.tokenize(encoder_sentences)"
      ],
      "metadata": {
        "id": "0_c1V-k0sFe0"
      },
      "execution_count": null,
      "outputs": []
    },
    {
      "cell_type": "markdown",
      "source": [
        "Then, you need to tell the package how to get the logits from your model at each time step while generating. That is, you many define a method that takes the encoder and decoder inputs, and your model will generate the logits and return them. Usually, you will use the forward method of your model to get the logits, so, the recommended name of this method is `generation_forward` but you can name it literaly anything. This method can be as simple as follows:"
      ],
      "metadata": {
        "id": "i8RXIlTCvCoB"
      }
    },
    {
      "cell_type": "code",
      "source": [
        "model = MyModel(...)\n",
        "\n",
        "def generation_forward(encoder_inputs, decoder_inputs):\n",
        "  # do something when receiving the decoder inputs at each time step\n",
        "  logits = model(encoder_inputs, decoder_inputs)\n",
        "  return logits"
      ],
      "metadata": {
        "id": "qne8UzPBmu_P"
      },
      "execution_count": null,
      "outputs": []
    },
    {
      "cell_type": "markdown",
      "source": [
        "then, define the generator as follows, whether being beam search or greedy generation:"
      ],
      "metadata": {
        "id": "8N9yerqCo4iy"
      }
    },
    {
      "cell_type": "code",
      "source": [
        "from generate_sequences import GreedyGenerator, BeamSearchGenerator\n",
        "\n",
        "generator = GreedyGenerator(\n",
        "    device=model.device, # make sure to have the same device as your model\n",
        "    batch_size=32, # number of samples to process at each time step\n",
        "    max_length=512, # output max length\n",
        "    generation_forward=generation_forward,\n",
        "    eos_token_id = 1, # replace this with your own\n",
        "    decoder_start_token_id=0, # replace this with your own\n",
        ")"
      ],
      "metadata": {
        "id": "C8lB0ZkXo66Q"
      },
      "execution_count": null,
      "outputs": []
    },
    {
      "cell_type": "markdown",
      "source": [
        "Then generate:"
      ],
      "metadata": {
        "id": "u5xU5K7Gss2F"
      }
    },
    {
      "cell_type": "code",
      "source": [
        "generator.generate(encoder_inputs=encoder_inputs)"
      ],
      "metadata": {
        "id": "JoMcm3rlstmZ"
      },
      "execution_count": null,
      "outputs": []
    },
    {
      "cell_type": "markdown",
      "source": [
        "here is the full code in one chunk:"
      ],
      "metadata": {
        "id": "8ozPb6UZwL6m"
      }
    },
    {
      "cell_type": "code",
      "source": [
        "from generate_sequences import GreedyGenerator, BeamSearchGenerator\n",
        "\n",
        "# usually the sentences are enclosed with bos and eos sentences.\n",
        "encoder_sentences = [\n",
        "    '<bos> sentence 1 <eos>',\n",
        "    '<bos> sentence 2 <eos>',\n",
        "    '<bos> sentence 3 <eos>',\n",
        "    ...\n",
        "]\n",
        "# You can also handle the <bos> and <eos> in the tokenizer if you tokenizer supports that\n",
        "encoder_inputs = tokenizer.tokenize(encoder_sentences)\n",
        "\n",
        "model = MyModel(...)\n",
        "\n",
        "def generation_forward(encoder_inputs, decoder_inputs):\n",
        "  # do something when receiving the decoder inputs at each time step\n",
        "  logits = model(encoder_inputs, decoder_inputs)\n",
        "  return logits\n",
        "\n",
        "generator = GreedyGenerator(\n",
        "    device=model.device, # make sure to have the same device as your model\n",
        "    batch_size=32,\n",
        "    max_length=512,\n",
        "    generation_forward=generation_forward,\n",
        "    eos_token_id = 1, # replace this with your own\n",
        "    decoder_start_token_id=0, # replace this with your own\n",
        ")\n",
        "\n",
        "# generate\n",
        "generator.generate(encoder_inputs=encoder_inputs)"
      ],
      "metadata": {
        "id": "D4DNoIuTwNjC"
      },
      "execution_count": null,
      "outputs": []
    },
    {
      "cell_type": "markdown",
      "source": [
        "## decoder-only architectures"
      ],
      "metadata": {
        "id": "cUpeZNGYxgQC"
      }
    },
    {
      "cell_type": "markdown",
      "source": [
        "In decoder-only architecture, the typical use-case is that the model will receive the decoder inputs at each time-step in order to generate the next tokens. If you want to generate sentences from scractch, you can prompt the decoder with the decoder_start_token_id then the package will continue generating untill reaching the eos_token_id. Here is a sample example:"
      ],
      "metadata": {
        "id": "dKkIxR0Cxq2O"
      }
    },
    {
      "cell_type": "code",
      "source": [
        "sentences = [\n",
        "    '<bos> sentence 1', # it is not expected the <eos> to be passed!\n",
        "    \"<bos>\" # you can also pass the bos only.\n",
        "]\n",
        "# You can also handle the <bos>  in the tokenizer if you tokenizer supports that\n",
        "decoder_inputs = tokenizer.tokenize(sentences)"
      ],
      "metadata": {
        "id": "7saG7n-wxmPM"
      },
      "execution_count": null,
      "outputs": []
    },
    {
      "cell_type": "markdown",
      "source": [
        "as in the encoder-decoder architecutre, write your generation method as follows. Note that encoder_inputs are still passed but you really do not need to to anything with them."
      ],
      "metadata": {
        "id": "50UO6Ig_zHke"
      }
    },
    {
      "cell_type": "code",
      "source": [
        "model = MyModel(...)\n",
        "\n",
        "def generation_forward(encoder_inputs, decoder_inputs):\n",
        "  # do something when receiving the decoder inputs at each time step\n",
        "  logits = model(decoder_inputs)\n",
        "  return logits"
      ],
      "metadata": {
        "id": "1HPQoYotzNbs"
      },
      "execution_count": null,
      "outputs": []
    },
    {
      "cell_type": "markdown",
      "source": [
        "define your generator:"
      ],
      "metadata": {
        "id": "IsGa7sR4zlaE"
      }
    },
    {
      "cell_type": "code",
      "source": [
        "from generate_sequences import GreedyGenerator, BeamSearchGenerator\n",
        "\n",
        "generator = GreedyGenerator(\n",
        "    device=model.device, # make sure to have the same device as your model\n",
        "    batch_size=32, # number of samples to process at each time step\n",
        "    max_length=512, # output max length\n",
        "    generation_forward=generation_forward,\n",
        "    eos_token_id = 0, # replace this with your own\n",
        ")"
      ],
      "metadata": {
        "id": "PgQuWDfRzmeS"
      },
      "execution_count": null,
      "outputs": []
    },
    {
      "cell_type": "markdown",
      "source": [
        "then generate:"
      ],
      "metadata": {
        "id": "hmGOVrDHzrin"
      }
    },
    {
      "cell_type": "code",
      "source": [
        "generator.generate(decoder_inputs=decoder_inputs)"
      ],
      "metadata": {
        "id": "89VJ9VnHzsKA"
      },
      "execution_count": null,
      "outputs": []
    },
    {
      "cell_type": "markdown",
      "source": [
        "If the inputs are a set of sentences that are not `<bos>` and `batch_size` is greater than 1, it is required for the inputs to be of the same shape. Pass your padding token to `pad_decoder_inputs` in the `generate` method. You can also set the padding side to `right` but THIS IS NOT a standard practice in such situation unless you know what you are doing. The typical padding side is `left` which is the default value for `decoder_inputs_padding_size` parameter."
      ],
      "metadata": {
        "id": "YZhHEGoLqN9V"
      }
    },
    {
      "cell_type": "markdown",
      "source": [
        "here is the full code in one chunk:"
      ],
      "metadata": {
        "id": "pCMap69Wz-RU"
      }
    },
    {
      "cell_type": "code",
      "source": [
        "sentences = [\n",
        "    '<bos> sentence 1', # it is not expected the <eos> to be passed!\n",
        "    \"<bos>\" # you can also pass the bos only.\n",
        "]\n",
        "# You can also handle the <bos>  in the tokenizer if you tokenizer supports that\n",
        "decoder_inputs = tokenizer.tokenize(sentences)\n",
        "\n",
        "model = MyModel(...)\n",
        "\n",
        "def generation_forward(encoder_inputs, decoder_inputs):\n",
        "  # do something when receiving the decoder inputs at each time step\n",
        "  logits = model(decoder_inputs)\n",
        "  return logits\n",
        "\n",
        "from generate_sequences import GreedyGenerator, BeamSearchGenerator\n",
        "\n",
        "generator = GreedyGenerator(\n",
        "    device=model.device, # make sure to have the same device as your model\n",
        "    batch_size=32, # number of samples to process at each time step\n",
        "    max_length=512, # output max length\n",
        "    generation_forward=generation_forward,\n",
        "    eos_token_id = 1, # replace this with your own\n",
        "    decoder_start_token_id=0, # replace this with your own\n",
        ")\n",
        "\n",
        "# generate\n",
        "generator.generate(decoder_inputs=decoder_inputs)"
      ],
      "metadata": {
        "id": "eO3My54Kz_gu"
      },
      "execution_count": null,
      "outputs": []
    },
    {
      "cell_type": "markdown",
      "source": [
        "## Additional parameters"
      ],
      "metadata": {
        "id": "P1C7bflioq79"
      }
    },
    {
      "cell_type": "markdown",
      "source": [
        "Below are some useful parameters to be passed to the generator. These parameters can be used regardless of the generation method used."
      ],
      "metadata": {
        "id": "W9Zks13C0OZr"
      }
    },
    {
      "cell_type": "markdown",
      "source": [
        "### Sampling"
      ],
      "metadata": {
        "id": "WdP7czLo0b2f"
      }
    },
    {
      "cell_type": "markdown",
      "source": [
        "`generate-sequences` support various sampling methods. There is a complete page dedicated for sampling."
      ],
      "metadata": {
        "id": "vrBSQZ_x0eKF"
      }
    },
    {
      "cell_type": "markdown",
      "source": [
        "### `sort_inputs_by_size`"
      ],
      "metadata": {
        "id": "MjLv-8IAznP_"
      }
    },
    {
      "cell_type": "markdown",
      "source": [
        "Usually, inputs comes with various lengths. However, this is ineffecient as the padding will always consider the largest sample in the batch. If samples are ordered, then largest samples will be in teh begining, taking more time at the beging and utilizing the padding effectively. As the generation paces over batches, it moves faster. This parameter is `True` by default. Usually, you do not want to set it to `False` unless you know what you are doing."
      ],
      "metadata": {
        "id": "lrMudukbzqKW"
      }
    }
  ]
}